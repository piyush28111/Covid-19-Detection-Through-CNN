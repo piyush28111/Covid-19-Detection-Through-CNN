{
  "nbformat": 4,
  "nbformat_minor": 0,
  "metadata": {
    "colab": {
      "name": "Modeling and Executing CNN.ipynb",
      "provenance": [],
      "collapsed_sections": []
    },
    "kernelspec": {
      "name": "python3",
      "display_name": "Python 3"
    },
    "language_info": {
      "name": "python"
    },
    "accelerator": "GPU"
  },
  "cells": [
    {
      "cell_type": "markdown",
      "source": [
        "Mounting drive"
      ],
      "metadata": {
        "id": "29W2lZwuhM2u"
      }
    },
    {
      "cell_type": "code",
      "execution_count": 1,
      "metadata": {
        "colab": {
          "base_uri": "https://localhost:8080/"
        },
        "id": "u1xO9vZTc-MM",
        "outputId": "671a6835-828b-4dc3-d34c-91bf70665493"
      },
      "outputs": [
        {
          "output_type": "stream",
          "name": "stdout",
          "text": [
            "Drive already mounted at /content/drive; to attempt to forcibly remount, call drive.mount(\"/content/drive\", force_remount=True).\n"
          ]
        }
      ],
      "source": [
        "from google.colab import drive\n",
        "drive.mount('/content/drive')"
      ]
    },
    {
      "cell_type": "code",
      "source": [
        "TRAIN_PATH = '/content/drive/MyDrive/DATA/Train'\n",
        "VAL_PATH = '/content/drive/MyDrive/DATA/Validation'\n"
      ],
      "metadata": {
        "id": "-xs3ElIG1g3x"
      },
      "execution_count": 2,
      "outputs": []
    },
    {
      "cell_type": "markdown",
      "source": [
        "Importing libraries"
      ],
      "metadata": {
        "id": "S7hS5AmUhQkW"
      }
    },
    {
      "cell_type": "code",
      "source": [
        "import numpy as np\n",
        "import matplotlib.pyplot as plt\n",
        "import keras\n",
        "from keras.layers import *\n",
        "from keras.preprocessing import image"
      ],
      "metadata": {
        "id": "lVx9b7vr2eRq"
      },
      "execution_count": 3,
      "outputs": []
    },
    {
      "cell_type": "markdown",
      "source": [
        "Preparing model structure"
      ],
      "metadata": {
        "id": "-QwbUvc1hT92"
      }
    },
    {
      "cell_type": "code",
      "source": [
        "model = keras.models.Sequential()\n",
        "\n",
        "model.add(Conv2D(32,kernel_size=(3,3), activation = 'relu', input_shape=(224,224,3)))\n",
        "\n",
        "model.add(Conv2D(64,(3,3), activation = 'relu'))\n",
        "\n",
        "model.add(MaxPooling2D(pool_size=(2,2)))\n",
        "\n",
        "model.add(Dropout(0.25))\n",
        "\n",
        "model.add(Conv2D(128,(3,3), activation = 'relu'))\n",
        "\n",
        "model.add(MaxPooling2D(pool_size=(2,2)))\n",
        "\n",
        "model.add(Dropout(0.25))\n",
        "\n",
        "model.add(Flatten())\n",
        "\n",
        "model.add(Dense(64, activation = 'relu'))\n",
        "\n",
        "model.add(Dropout(0.25))\n",
        "\n",
        "model.add(Dense(1, activation = 'sigmoid'))\n",
        "\n",
        "model.compile(loss = keras.losses.binary_crossentropy, optimizer ='adam', metrics = ['accuracy'])\n"
      ],
      "metadata": {
        "id": "FwZV7gyw2nm3"
      },
      "execution_count": 4,
      "outputs": []
    },
    {
      "cell_type": "code",
      "source": [
        "model.summary()"
      ],
      "metadata": {
        "colab": {
          "base_uri": "https://localhost:8080/"
        },
        "id": "AZY5IFsv6bcr",
        "outputId": "6a2c4af2-a6b8-4562-c1f3-e03cdb38bd18"
      },
      "execution_count": 5,
      "outputs": [
        {
          "output_type": "stream",
          "name": "stdout",
          "text": [
            "Model: \"sequential\"\n",
            "_________________________________________________________________\n",
            " Layer (type)                Output Shape              Param #   \n",
            "=================================================================\n",
            " conv2d (Conv2D)             (None, 222, 222, 32)      896       \n",
            "                                                                 \n",
            " conv2d_1 (Conv2D)           (None, 220, 220, 64)      18496     \n",
            "                                                                 \n",
            " max_pooling2d (MaxPooling2D  (None, 110, 110, 64)     0         \n",
            " )                                                               \n",
            "                                                                 \n",
            " dropout (Dropout)           (None, 110, 110, 64)      0         \n",
            "                                                                 \n",
            " conv2d_2 (Conv2D)           (None, 108, 108, 128)     73856     \n",
            "                                                                 \n",
            " max_pooling2d_1 (MaxPooling  (None, 54, 54, 128)      0         \n",
            " 2D)                                                             \n",
            "                                                                 \n",
            " dropout_1 (Dropout)         (None, 54, 54, 128)       0         \n",
            "                                                                 \n",
            " flatten (Flatten)           (None, 373248)            0         \n",
            "                                                                 \n",
            " dense (Dense)               (None, 64)                23887936  \n",
            "                                                                 \n",
            " dropout_2 (Dropout)         (None, 64)                0         \n",
            "                                                                 \n",
            " dense_1 (Dense)             (None, 1)                 65        \n",
            "                                                                 \n",
            "=================================================================\n",
            "Total params: 23,981,249\n",
            "Trainable params: 23,981,249\n",
            "Non-trainable params: 0\n",
            "_________________________________________________________________\n"
          ]
        }
      ]
    },
    {
      "cell_type": "code",
      "source": [
        "# Training from scratch\n",
        "\n",
        "train_datagen = image.ImageDataGenerator(\n",
        "    rescale = 1/255,\n",
        "    shear_range= 0.2,\n",
        "    zoom_range = 0.2,\n",
        "    horizontal_flip = True,\n",
        ")\n",
        "\n",
        "test_datagen = image.ImageDataGenerator(rescale = 1/255)"
      ],
      "metadata": {
        "id": "mncwAuiF67pP"
      },
      "execution_count": 6,
      "outputs": []
    },
    {
      "cell_type": "code",
      "source": [
        "train_generator = train_datagen.flow_from_directory(\n",
        "    TRAIN_PATH,\n",
        "    target_size = (224,224),\n",
        "    batch_size = 32,\n",
        "    class_mode = 'binary')"
      ],
      "metadata": {
        "colab": {
          "base_uri": "https://localhost:8080/"
        },
        "id": "D54FcIZK8dnD",
        "outputId": "7f731eb8-1a26-4213-cb43-8157af6ee985"
      },
      "execution_count": 7,
      "outputs": [
        {
          "output_type": "stream",
          "name": "stdout",
          "text": [
            "Found 300 images belonging to 2 classes.\n"
          ]
        }
      ]
    },
    {
      "cell_type": "code",
      "source": [
        "train_generator.class_indices"
      ],
      "metadata": {
        "colab": {
          "base_uri": "https://localhost:8080/"
        },
        "id": "HMEwZ-F_9En3",
        "outputId": "f25bdf34-5dd5-47f2-daf3-96d70f7a2d21"
      },
      "execution_count": 8,
      "outputs": [
        {
          "output_type": "execute_result",
          "data": {
            "text/plain": [
              "{'Infected': 0, 'Normal': 1}"
            ]
          },
          "metadata": {},
          "execution_count": 8
        }
      ]
    },
    {
      "cell_type": "code",
      "source": [
        "validation_generator = test_datagen.flow_from_directory(\n",
        "    VAL_PATH,\n",
        "    target_size = (224,224),\n",
        "    batch_size = 32,\n",
        "    class_mode = 'binary')"
      ],
      "metadata": {
        "colab": {
          "base_uri": "https://localhost:8080/"
        },
        "id": "mppYUtrU9tOP",
        "outputId": "cac28f4f-ad9d-4319-f82b-c9251624bf6f"
      },
      "execution_count": 9,
      "outputs": [
        {
          "output_type": "stream",
          "name": "stdout",
          "text": [
            "Found 92 images belonging to 2 classes.\n"
          ]
        }
      ]
    },
    {
      "cell_type": "code",
      "source": [
        "hist = model.fit(\n",
        "    train_generator,\n",
        "    steps_per_epoch = 10,\n",
        "    epochs = 10,\n",
        "    validation_data = validation_generator,\n",
        "    validation_steps = 2\n",
        ")"
      ],
      "metadata": {
        "colab": {
          "base_uri": "https://localhost:8080/"
        },
        "id": "8thasD8n-yiQ",
        "outputId": "aa514020-108c-41ea-ada6-561fdae698d3"
      },
      "execution_count": 10,
      "outputs": [
        {
          "output_type": "stream",
          "name": "stdout",
          "text": [
            "Epoch 1/10\n",
            "10/10 [==============================] - 75s 6s/step - loss: 5.0510 - accuracy: 0.5733 - val_loss: 0.6893 - val_accuracy: 0.5469\n",
            "Epoch 2/10\n",
            "10/10 [==============================] - 16s 2s/step - loss: 0.5945 - accuracy: 0.7100 - val_loss: 0.3959 - val_accuracy: 0.9219\n",
            "Epoch 3/10\n",
            "10/10 [==============================] - 15s 2s/step - loss: 0.2920 - accuracy: 0.8833 - val_loss: 0.1953 - val_accuracy: 0.9219\n",
            "Epoch 4/10\n",
            "10/10 [==============================] - 15s 2s/step - loss: 0.2585 - accuracy: 0.9067 - val_loss: 0.1612 - val_accuracy: 0.9375\n",
            "Epoch 5/10\n",
            "10/10 [==============================] - 15s 2s/step - loss: 0.3167 - accuracy: 0.8633 - val_loss: 0.3032 - val_accuracy: 0.8750\n",
            "Epoch 6/10\n",
            "10/10 [==============================] - 15s 1s/step - loss: 0.1656 - accuracy: 0.9433 - val_loss: 0.2511 - val_accuracy: 0.9219\n",
            "Epoch 7/10\n",
            "10/10 [==============================] - 15s 2s/step - loss: 0.1385 - accuracy: 0.9400 - val_loss: 0.1867 - val_accuracy: 0.9531\n",
            "Epoch 8/10\n",
            "10/10 [==============================] - 15s 1s/step - loss: 0.1257 - accuracy: 0.9567 - val_loss: 0.1342 - val_accuracy: 0.9531\n",
            "Epoch 9/10\n",
            "10/10 [==============================] - 15s 2s/step - loss: 0.1169 - accuracy: 0.9600 - val_loss: 0.2576 - val_accuracy: 0.9219\n",
            "Epoch 10/10\n",
            "10/10 [==============================] - 15s 2s/step - loss: 0.1085 - accuracy: 0.9767 - val_loss: 0.1710 - val_accuracy: 0.9531\n"
          ]
        }
      ]
    },
    {
      "cell_type": "markdown",
      "source": [
        "Checking model history"
      ],
      "metadata": {
        "id": "-GPYKdJSiotJ"
      }
    },
    {
      "cell_type": "code",
      "source": [
        "model_summary = hist.history"
      ],
      "metadata": {
        "id": "vCTn5uVnisY6"
      },
      "execution_count": 13,
      "outputs": []
    },
    {
      "cell_type": "code",
      "source": [
        "model_summary"
      ],
      "metadata": {
        "colab": {
          "base_uri": "https://localhost:8080/"
        },
        "id": "yW9BV6CwjEIJ",
        "outputId": "2fad2e6e-dbf8-49d7-9b4f-1e6130b50ded"
      },
      "execution_count": 14,
      "outputs": [
        {
          "output_type": "execute_result",
          "data": {
            "text/plain": [
              "{'accuracy': [0.5733333230018616,\n",
              "  0.7099999785423279,\n",
              "  0.8833333253860474,\n",
              "  0.9066666960716248,\n",
              "  0.8633333444595337,\n",
              "  0.9433333277702332,\n",
              "  0.9399999976158142,\n",
              "  0.9566666483879089,\n",
              "  0.9599999785423279,\n",
              "  0.9766666889190674],\n",
              " 'loss': [5.050987720489502,\n",
              "  0.5944873094558716,\n",
              "  0.29198598861694336,\n",
              "  0.2585281729698181,\n",
              "  0.3167177438735962,\n",
              "  0.16564558446407318,\n",
              "  0.13851511478424072,\n",
              "  0.1256961077451706,\n",
              "  0.11688318848609924,\n",
              "  0.10854112356901169],\n",
              " 'val_accuracy': [0.546875,\n",
              "  0.921875,\n",
              "  0.921875,\n",
              "  0.9375,\n",
              "  0.875,\n",
              "  0.921875,\n",
              "  0.953125,\n",
              "  0.953125,\n",
              "  0.921875,\n",
              "  0.953125],\n",
              " 'val_loss': [0.689254641532898,\n",
              "  0.39593780040740967,\n",
              "  0.19531913101673126,\n",
              "  0.16116422414779663,\n",
              "  0.3032197058200836,\n",
              "  0.25105345249176025,\n",
              "  0.1866900622844696,\n",
              "  0.13418853282928467,\n",
              "  0.2575930058956146,\n",
              "  0.17101123929023743]}"
            ]
          },
          "metadata": {},
          "execution_count": 14
        }
      ]
    },
    {
      "cell_type": "code",
      "source": [
        "plt.figure(dpi=100)\n",
        "plt.plot(range(1,11),model_summary['val_accuracy'],label='Validation accuracy')\n",
        "plt.plot(range(1,11),model_summary['accuracy'],color='orange',label='Training accuracy')\n",
        "plt.xlabel('Number of epochs')\n",
        "plt.ylabel('Validation and Training accuracy')\n",
        "plt.title('Accuracy vs number of epochs')\n",
        "plt.legend()\n",
        "plt.show()"
      ],
      "metadata": {
        "colab": {
          "base_uri": "https://localhost:8080/",
          "height": 404
        },
        "id": "m0QPFKfNjD-G",
        "outputId": "9fd49d94-bda2-47c7-99d6-830220502d01"
      },
      "execution_count": 23,
      "outputs": [
        {
          "output_type": "display_data",
          "data": {
            "image/png": "[encoded data removed]",
            "text/plain": [
              "<Figure size 600x400 with 1 Axes>"
            ]
          },
          "metadata": {
            "needs_background": "light"
          }
        }
      ]
    },
    {
      "cell_type": "markdown",
      "source": [
        "Saving model weights"
      ],
      "metadata": {
        "id": "D842MDvQir_L"
      }
    },
    {
      "cell_type": "code",
      "source": [
        "model.save('model_adv.h5')"
      ],
      "metadata": {
        "id": "AlilXUqY_rrG"
      },
      "execution_count": 24,
      "outputs": []
    },
    {
      "cell_type": "code",
      "source": [
        "model.evaluate(train_generator)"
      ],
      "metadata": {
        "colab": {
          "base_uri": "https://localhost:8080/"
        },
        "id": "PsKHwihZOjCl",
        "outputId": "e77805d9-c26f-49c3-c77d-a8d06bb1c10b"
      },
      "execution_count": 25,
      "outputs": [
        {
          "output_type": "stream",
          "name": "stdout",
          "text": [
            "10/10 [==============================] - 12s 1s/step - loss: 0.0694 - accuracy: 0.9767\n"
          ]
        },
        {
          "output_type": "execute_result",
          "data": {
            "text/plain": [
              "[0.06940969824790955, 0.9766666889190674]"
            ]
          },
          "metadata": {},
          "execution_count": 25
        }
      ]
    },
    {
      "cell_type": "code",
      "source": [
        "model.evaluate(validation_generator)"
      ],
      "metadata": {
        "colab": {
          "base_uri": "https://localhost:8080/"
        },
        "id": "iNxfjOwMOnCp",
        "outputId": "36392454-7824-4794-f1c5-d27e66dfc2a1"
      },
      "execution_count": 26,
      "outputs": [
        {
          "output_type": "stream",
          "name": "stdout",
          "text": [
            "3/3 [==============================] - 5s 2s/step - loss: 0.1735 - accuracy: 0.9565\n"
          ]
        },
        {
          "output_type": "execute_result",
          "data": {
            "text/plain": [
              "[0.1735205501317978, 0.95652174949646]"
            ]
          },
          "metadata": {},
          "execution_count": 26
        }
      ]
    },
    {
      "cell_type": "markdown",
      "source": [
        "Test images, due to less availability of lungs images testing data is very small."
      ],
      "metadata": {
        "id": "QhlcVJEjPCpv"
      }
    },
    {
      "cell_type": "code",
      "source": [
        "model = keras.models.load_model('model_adv.h5')"
      ],
      "metadata": {
        "id": "RGdaxIwLO7S5"
      },
      "execution_count": 28,
      "outputs": []
    },
    {
      "cell_type": "code",
      "source": [
        "import os"
      ],
      "metadata": {
        "id": "UygTL5YeU47M"
      },
      "execution_count": 29,
      "outputs": []
    },
    {
      "cell_type": "code",
      "source": [
        "train_generator.class_indices"
      ],
      "metadata": {
        "colab": {
          "base_uri": "https://localhost:8080/"
        },
        "id": "6Wrcuht6U4j_",
        "outputId": "dda871cd-14fd-4cc2-b6f4-742f19b335cd"
      },
      "execution_count": 30,
      "outputs": [
        {
          "output_type": "execute_result",
          "data": {
            "text/plain": [
              "{'Infected': 0, 'Normal': 1}"
            ]
          },
          "metadata": {},
          "execution_count": 30
        }
      ]
    },
    {
      "cell_type": "markdown",
      "source": [
        "We have total of 6 images, 3 for covid positive people and 3 for normal people."
      ],
      "metadata": {
        "id": "pXMMPslmmbX8"
      }
    },
    {
      "cell_type": "code",
      "source": [
        "os.listdir('/content/drive/MyDrive/Covid positive lungs/')"
      ],
      "metadata": {
        "colab": {
          "base_uri": "https://localhost:8080/"
        },
        "id": "aA3ZcLCRVprE",
        "outputId": "3bf65c0c-ffef-4bc0-82b6-4fe5415965ed"
      },
      "execution_count": 31,
      "outputs": [
        {
          "output_type": "execute_result",
          "data": {
            "text/plain": [
              "['image_3.png', 'image_2.png', 'image_1.png']"
            ]
          },
          "metadata": {},
          "execution_count": 31
        }
      ]
    },
    {
      "cell_type": "code",
      "source": [
        "y_actual = []\n",
        "y_test = []\n",
        "\n",
        "for i in os.listdir('/content/drive/MyDrive/Covid positive lungs/'):\n",
        "  img1 = image.load_img('/content/drive/MyDrive/Covid positive lungs/'+i, target_size=(224,224))\n",
        "  img1 = image.img_to_array(img1)\n",
        "  img1 = np.expand_dims(img1, axis=0)\n",
        "  p1 = model.predict(img1)\n",
        "  y_test.append(p1[0,0])\n",
        "  y_actual.append(0)\n",
        "\n",
        "for i in os.listdir('/content/drive/MyDrive/Healthy lungs/'):\n",
        "  img2 = image.load_img('/content/drive/MyDrive/Healthy lungs/'+i, target_size=(224,224))\n",
        "  img2 = image.img_to_array(img2)\n",
        "  img2 = np.expand_dims(img2, axis=0)\n",
        "  p2 = model.predict(img2)\n",
        "  y_test.append(p2[0,0])\n",
        "  y_actual.append(1)  "
      ],
      "metadata": {
        "id": "iNwXr1qaVpey"
      },
      "execution_count": 31,
      "outputs": []
    },
    {
      "cell_type": "code",
      "source": [
        "y_actual"
      ],
      "metadata": {
        "colab": {
          "base_uri": "https://localhost:8080/"
        },
        "id": "0ZBb1r1EXFsv",
        "outputId": "c5622aa3-c1c4-48e9-d1a3-186a49c59aad"
      },
      "execution_count": 32,
      "outputs": [
        {
          "output_type": "execute_result",
          "data": {
            "text/plain": [
              "[0, 0, 0, 1, 1, 1]"
            ]
          },
          "metadata": {},
          "execution_count": 32
        }
      ]
    },
    {
      "cell_type": "code",
      "source": [
        "y_test"
      ],
      "metadata": {
        "colab": {
          "base_uri": "https://localhost:8080/"
        },
        "id": "UMgHI6p0XFaP",
        "outputId": "d2df3bd1-3b3e-4ee7-fa44-26bc96df7353"
      },
      "execution_count": 33,
      "outputs": [
        {
          "output_type": "execute_result",
          "data": {
            "text/plain": [
              "[0.0, 0.0, 0.0, 1.0, 0.0, 1.0]"
            ]
          },
          "metadata": {},
          "execution_count": 33
        }
      ]
    },
    {
      "cell_type": "code",
      "source": [
        "y_actual = np.array(y_actual)\n",
        "y_test = np.array(y_test)"
      ],
      "metadata": {
        "id": "0pdUvIcMZkpA"
      },
      "execution_count": 34,
      "outputs": []
    },
    {
      "cell_type": "code",
      "source": [
        "from sklearn.metrics import confusion_matrix\n",
        "import seaborn as sns"
      ],
      "metadata": {
        "id": "SdgTScN1Zuuh"
      },
      "execution_count": 35,
      "outputs": []
    },
    {
      "cell_type": "code",
      "source": [
        "cm = confusion_matrix(y_actual, y_test)\n",
        "sns.heatmap(cm, annot=True)"
      ],
      "metadata": {
        "colab": {
          "base_uri": "https://localhost:8080/",
          "height": 286
        },
        "id": "MMXIyOQlZunU",
        "outputId": "e0585493-9e53-43a0-cadd-80091c4c51ca"
      },
      "execution_count": 36,
      "outputs": [
        {
          "output_type": "execute_result",
          "data": {
            "text/plain": [
              "<matplotlib.axes._subplots.AxesSubplot at 0x7f31b88ec0d0>"
            ]
          },
          "metadata": {},
          "execution_count": 36
        },
        {
          "output_type": "display_data",
          "data": {
            "image/png": "[encoded data removed]",
            "text/plain": [
              "<Figure size 432x288 with 2 Axes>"
            ]
          },
          "metadata": {
            "needs_background": "light"
          }
        }
      ]
    },
    {
      "cell_type": "code",
      "source": [
        ""
      ],
      "metadata": {
        "id": "O2LMCygPZuj6"
      },
      "execution_count": null,
      "outputs": []
    }
  ]
}